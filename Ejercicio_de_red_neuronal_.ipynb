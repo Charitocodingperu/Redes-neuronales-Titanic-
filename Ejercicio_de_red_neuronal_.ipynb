{
  "nbformat": 4,
  "nbformat_minor": 0,
  "metadata": {
    "colab": {
      "provenance": []
    },
    "kernelspec": {
      "name": "python3",
      "display_name": "Python 3"
    },
    "language_info": {
      "name": "python"
    }
  },
  "cells": [
    {
      "cell_type": "markdown",
      "source": [
        "# **Analisis de dataset \"TitanicSurvived\" mediante redes neuronales**"
      ],
      "metadata": {
        "id": "BH99ne3H9aYy"
      }
    },
    {
      "cell_type": "markdown",
      "source": [
        "# **Limpieza de datos**"
      ],
      "metadata": {
        "id": "wVRs0Z0-9l8t"
      }
    },
    {
      "cell_type": "code",
      "execution_count": 2,
      "metadata": {
        "colab": {
          "base_uri": "https://localhost:8080/"
        },
        "id": "sRKzZJ6-XzYY",
        "outputId": "08d6c2e0-395c-4a02-a8d8-158bd6832d14"
      },
      "outputs": [
        {
          "output_type": "stream",
          "name": "stdout",
          "text": [
            "Mounted at /content/drive\n"
          ]
        }
      ],
      "source": [
        "from google.colab import drive\n",
        "drive.mount('/content/drive')"
      ]
    },
    {
      "cell_type": "code",
      "source": [
        "import numpy as np\n",
        "import matplotlib.pyplot as plt\n",
        "import pandas as pd\n",
        "from sklearn.preprocessing import StandardScaler\n",
        "from sklearn.model_selection import train_test_split\n",
        "from tensorflow.keras.models import Sequential\n",
        "from tensorflow.keras.layers import Dense"
      ],
      "metadata": {
        "id": "I_7oxS9EZX3I"
      },
      "execution_count": 3,
      "outputs": []
    },
    {
      "cell_type": "code",
      "source": [
        "df = pd.read_csv('/content/drive/MyDrive/MODULO III Maching Learning Advance  /train.csv')"
      ],
      "metadata": {
        "id": "4z0kn4HtZr9W"
      },
      "execution_count": 4,
      "outputs": []
    },
    {
      "cell_type": "code",
      "source": [
        "df.head()"
      ],
      "metadata": {
        "colab": {
          "base_uri": "https://localhost:8080/",
          "height": 206
        },
        "id": "bTqfYxvVZ4d9",
        "outputId": "052dea1e-189b-4515-b127-21d2f9bd4111"
      },
      "execution_count": 5,
      "outputs": [
        {
          "output_type": "execute_result",
          "data": {
            "text/plain": [
              "   PassengerId  Survived  Pclass  \\\n",
              "0            1         0       3   \n",
              "1            2         1       1   \n",
              "2            3         1       3   \n",
              "3            4         1       1   \n",
              "4            5         0       3   \n",
              "\n",
              "                                                Name     Sex   Age  SibSp  \\\n",
              "0                            Braund, Mr. Owen Harris    male  22.0      1   \n",
              "1  Cumings, Mrs. John Bradley (Florence Briggs Th...  female  38.0      1   \n",
              "2                             Heikkinen, Miss. Laina  female  26.0      0   \n",
              "3       Futrelle, Mrs. Jacques Heath (Lily May Peel)  female  35.0      1   \n",
              "4                           Allen, Mr. William Henry    male  35.0      0   \n",
              "\n",
              "   Parch            Ticket     Fare Cabin Embarked  \n",
              "0      0         A/5 21171   7.2500   NaN        S  \n",
              "1      0          PC 17599  71.2833   C85        C  \n",
              "2      0  STON/O2. 3101282   7.9250   NaN        S  \n",
              "3      0            113803  53.1000  C123        S  \n",
              "4      0            373450   8.0500   NaN        S  "
            ],
            "text/html": [
              "\n",
              "  <div id=\"df-98e04fd1-8ff0-4623-99ae-e20e78318d25\" class=\"colab-df-container\">\n",
              "    <div>\n",
              "<style scoped>\n",
              "    .dataframe tbody tr th:only-of-type {\n",
              "        vertical-align: middle;\n",
              "    }\n",
              "\n",
              "    .dataframe tbody tr th {\n",
              "        vertical-align: top;\n",
              "    }\n",
              "\n",
              "    .dataframe thead th {\n",
              "        text-align: right;\n",
              "    }\n",
              "</style>\n",
              "<table border=\"1\" class=\"dataframe\">\n",
              "  <thead>\n",
              "    <tr style=\"text-align: right;\">\n",
              "      <th></th>\n",
              "      <th>PassengerId</th>\n",
              "      <th>Survived</th>\n",
              "      <th>Pclass</th>\n",
              "      <th>Name</th>\n",
              "      <th>Sex</th>\n",
              "      <th>Age</th>\n",
              "      <th>SibSp</th>\n",
              "      <th>Parch</th>\n",
              "      <th>Ticket</th>\n",
              "      <th>Fare</th>\n",
              "      <th>Cabin</th>\n",
              "      <th>Embarked</th>\n",
              "    </tr>\n",
              "  </thead>\n",
              "  <tbody>\n",
              "    <tr>\n",
              "      <th>0</th>\n",
              "      <td>1</td>\n",
              "      <td>0</td>\n",
              "      <td>3</td>\n",
              "      <td>Braund, Mr. Owen Harris</td>\n",
              "      <td>male</td>\n",
              "      <td>22.0</td>\n",
              "      <td>1</td>\n",
              "      <td>0</td>\n",
              "      <td>A/5 21171</td>\n",
              "      <td>7.2500</td>\n",
              "      <td>NaN</td>\n",
              "      <td>S</td>\n",
              "    </tr>\n",
              "    <tr>\n",
              "      <th>1</th>\n",
              "      <td>2</td>\n",
              "      <td>1</td>\n",
              "      <td>1</td>\n",
              "      <td>Cumings, Mrs. John Bradley (Florence Briggs Th...</td>\n",
              "      <td>female</td>\n",
              "      <td>38.0</td>\n",
              "      <td>1</td>\n",
              "      <td>0</td>\n",
              "      <td>PC 17599</td>\n",
              "      <td>71.2833</td>\n",
              "      <td>C85</td>\n",
              "      <td>C</td>\n",
              "    </tr>\n",
              "    <tr>\n",
              "      <th>2</th>\n",
              "      <td>3</td>\n",
              "      <td>1</td>\n",
              "      <td>3</td>\n",
              "      <td>Heikkinen, Miss. Laina</td>\n",
              "      <td>female</td>\n",
              "      <td>26.0</td>\n",
              "      <td>0</td>\n",
              "      <td>0</td>\n",
              "      <td>STON/O2. 3101282</td>\n",
              "      <td>7.9250</td>\n",
              "      <td>NaN</td>\n",
              "      <td>S</td>\n",
              "    </tr>\n",
              "    <tr>\n",
              "      <th>3</th>\n",
              "      <td>4</td>\n",
              "      <td>1</td>\n",
              "      <td>1</td>\n",
              "      <td>Futrelle, Mrs. Jacques Heath (Lily May Peel)</td>\n",
              "      <td>female</td>\n",
              "      <td>35.0</td>\n",
              "      <td>1</td>\n",
              "      <td>0</td>\n",
              "      <td>113803</td>\n",
              "      <td>53.1000</td>\n",
              "      <td>C123</td>\n",
              "      <td>S</td>\n",
              "    </tr>\n",
              "    <tr>\n",
              "      <th>4</th>\n",
              "      <td>5</td>\n",
              "      <td>0</td>\n",
              "      <td>3</td>\n",
              "      <td>Allen, Mr. William Henry</td>\n",
              "      <td>male</td>\n",
              "      <td>35.0</td>\n",
              "      <td>0</td>\n",
              "      <td>0</td>\n",
              "      <td>373450</td>\n",
              "      <td>8.0500</td>\n",
              "      <td>NaN</td>\n",
              "      <td>S</td>\n",
              "    </tr>\n",
              "  </tbody>\n",
              "</table>\n",
              "</div>\n",
              "    <div class=\"colab-df-buttons\">\n",
              "\n",
              "  <div class=\"colab-df-container\">\n",
              "    <button class=\"colab-df-convert\" onclick=\"convertToInteractive('df-98e04fd1-8ff0-4623-99ae-e20e78318d25')\"\n",
              "            title=\"Convert this dataframe to an interactive table.\"\n",
              "            style=\"display:none;\">\n",
              "\n",
              "  <svg xmlns=\"http://www.w3.org/2000/svg\" height=\"24px\" viewBox=\"0 -960 960 960\">\n",
              "    <path d=\"M120-120v-720h720v720H120Zm60-500h600v-160H180v160Zm220 220h160v-160H400v160Zm0 220h160v-160H400v160ZM180-400h160v-160H180v160Zm440 0h160v-160H620v160ZM180-180h160v-160H180v160Zm440 0h160v-160H620v160Z\"/>\n",
              "  </svg>\n",
              "    </button>\n",
              "\n",
              "  <style>\n",
              "    .colab-df-container {\n",
              "      display:flex;\n",
              "      gap: 12px;\n",
              "    }\n",
              "\n",
              "    .colab-df-convert {\n",
              "      background-color: #E8F0FE;\n",
              "      border: none;\n",
              "      border-radius: 50%;\n",
              "      cursor: pointer;\n",
              "      display: none;\n",
              "      fill: #1967D2;\n",
              "      height: 32px;\n",
              "      padding: 0 0 0 0;\n",
              "      width: 32px;\n",
              "    }\n",
              "\n",
              "    .colab-df-convert:hover {\n",
              "      background-color: #E2EBFA;\n",
              "      box-shadow: 0px 1px 2px rgba(60, 64, 67, 0.3), 0px 1px 3px 1px rgba(60, 64, 67, 0.15);\n",
              "      fill: #174EA6;\n",
              "    }\n",
              "\n",
              "    .colab-df-buttons div {\n",
              "      margin-bottom: 4px;\n",
              "    }\n",
              "\n",
              "    [theme=dark] .colab-df-convert {\n",
              "      background-color: #3B4455;\n",
              "      fill: #D2E3FC;\n",
              "    }\n",
              "\n",
              "    [theme=dark] .colab-df-convert:hover {\n",
              "      background-color: #434B5C;\n",
              "      box-shadow: 0px 1px 3px 1px rgba(0, 0, 0, 0.15);\n",
              "      filter: drop-shadow(0px 1px 2px rgba(0, 0, 0, 0.3));\n",
              "      fill: #FFFFFF;\n",
              "    }\n",
              "  </style>\n",
              "\n",
              "    <script>\n",
              "      const buttonEl =\n",
              "        document.querySelector('#df-98e04fd1-8ff0-4623-99ae-e20e78318d25 button.colab-df-convert');\n",
              "      buttonEl.style.display =\n",
              "        google.colab.kernel.accessAllowed ? 'block' : 'none';\n",
              "\n",
              "      async function convertToInteractive(key) {\n",
              "        const element = document.querySelector('#df-98e04fd1-8ff0-4623-99ae-e20e78318d25');\n",
              "        const dataTable =\n",
              "          await google.colab.kernel.invokeFunction('convertToInteractive',\n",
              "                                                    [key], {});\n",
              "        if (!dataTable) return;\n",
              "\n",
              "        const docLinkHtml = 'Like what you see? Visit the ' +\n",
              "          '<a target=\"_blank\" href=https://colab.research.google.com/notebooks/data_table.ipynb>data table notebook</a>'\n",
              "          + ' to learn more about interactive tables.';\n",
              "        element.innerHTML = '';\n",
              "        dataTable['output_type'] = 'display_data';\n",
              "        await google.colab.output.renderOutput(dataTable, element);\n",
              "        const docLink = document.createElement('div');\n",
              "        docLink.innerHTML = docLinkHtml;\n",
              "        element.appendChild(docLink);\n",
              "      }\n",
              "    </script>\n",
              "  </div>\n",
              "\n",
              "\n",
              "<div id=\"df-cf63741b-b6c3-4f50-9a40-7b867806b76b\">\n",
              "  <button class=\"colab-df-quickchart\" onclick=\"quickchart('df-cf63741b-b6c3-4f50-9a40-7b867806b76b')\"\n",
              "            title=\"Suggest charts\"\n",
              "            style=\"display:none;\">\n",
              "\n",
              "<svg xmlns=\"http://www.w3.org/2000/svg\" height=\"24px\"viewBox=\"0 0 24 24\"\n",
              "     width=\"24px\">\n",
              "    <g>\n",
              "        <path d=\"M19 3H5c-1.1 0-2 .9-2 2v14c0 1.1.9 2 2 2h14c1.1 0 2-.9 2-2V5c0-1.1-.9-2-2-2zM9 17H7v-7h2v7zm4 0h-2V7h2v10zm4 0h-2v-4h2v4z\"/>\n",
              "    </g>\n",
              "</svg>\n",
              "  </button>\n",
              "\n",
              "<style>\n",
              "  .colab-df-quickchart {\n",
              "      --bg-color: #E8F0FE;\n",
              "      --fill-color: #1967D2;\n",
              "      --hover-bg-color: #E2EBFA;\n",
              "      --hover-fill-color: #174EA6;\n",
              "      --disabled-fill-color: #AAA;\n",
              "      --disabled-bg-color: #DDD;\n",
              "  }\n",
              "\n",
              "  [theme=dark] .colab-df-quickchart {\n",
              "      --bg-color: #3B4455;\n",
              "      --fill-color: #D2E3FC;\n",
              "      --hover-bg-color: #434B5C;\n",
              "      --hover-fill-color: #FFFFFF;\n",
              "      --disabled-bg-color: #3B4455;\n",
              "      --disabled-fill-color: #666;\n",
              "  }\n",
              "\n",
              "  .colab-df-quickchart {\n",
              "    background-color: var(--bg-color);\n",
              "    border: none;\n",
              "    border-radius: 50%;\n",
              "    cursor: pointer;\n",
              "    display: none;\n",
              "    fill: var(--fill-color);\n",
              "    height: 32px;\n",
              "    padding: 0;\n",
              "    width: 32px;\n",
              "  }\n",
              "\n",
              "  .colab-df-quickchart:hover {\n",
              "    background-color: var(--hover-bg-color);\n",
              "    box-shadow: 0 1px 2px rgba(60, 64, 67, 0.3), 0 1px 3px 1px rgba(60, 64, 67, 0.15);\n",
              "    fill: var(--button-hover-fill-color);\n",
              "  }\n",
              "\n",
              "  .colab-df-quickchart-complete:disabled,\n",
              "  .colab-df-quickchart-complete:disabled:hover {\n",
              "    background-color: var(--disabled-bg-color);\n",
              "    fill: var(--disabled-fill-color);\n",
              "    box-shadow: none;\n",
              "  }\n",
              "\n",
              "  .colab-df-spinner {\n",
              "    border: 2px solid var(--fill-color);\n",
              "    border-color: transparent;\n",
              "    border-bottom-color: var(--fill-color);\n",
              "    animation:\n",
              "      spin 1s steps(1) infinite;\n",
              "  }\n",
              "\n",
              "  @keyframes spin {\n",
              "    0% {\n",
              "      border-color: transparent;\n",
              "      border-bottom-color: var(--fill-color);\n",
              "      border-left-color: var(--fill-color);\n",
              "    }\n",
              "    20% {\n",
              "      border-color: transparent;\n",
              "      border-left-color: var(--fill-color);\n",
              "      border-top-color: var(--fill-color);\n",
              "    }\n",
              "    30% {\n",
              "      border-color: transparent;\n",
              "      border-left-color: var(--fill-color);\n",
              "      border-top-color: var(--fill-color);\n",
              "      border-right-color: var(--fill-color);\n",
              "    }\n",
              "    40% {\n",
              "      border-color: transparent;\n",
              "      border-right-color: var(--fill-color);\n",
              "      border-top-color: var(--fill-color);\n",
              "    }\n",
              "    60% {\n",
              "      border-color: transparent;\n",
              "      border-right-color: var(--fill-color);\n",
              "    }\n",
              "    80% {\n",
              "      border-color: transparent;\n",
              "      border-right-color: var(--fill-color);\n",
              "      border-bottom-color: var(--fill-color);\n",
              "    }\n",
              "    90% {\n",
              "      border-color: transparent;\n",
              "      border-bottom-color: var(--fill-color);\n",
              "    }\n",
              "  }\n",
              "</style>\n",
              "\n",
              "  <script>\n",
              "    async function quickchart(key) {\n",
              "      const quickchartButtonEl =\n",
              "        document.querySelector('#' + key + ' button');\n",
              "      quickchartButtonEl.disabled = true;  // To prevent multiple clicks.\n",
              "      quickchartButtonEl.classList.add('colab-df-spinner');\n",
              "      try {\n",
              "        const charts = await google.colab.kernel.invokeFunction(\n",
              "            'suggestCharts', [key], {});\n",
              "      } catch (error) {\n",
              "        console.error('Error during call to suggestCharts:', error);\n",
              "      }\n",
              "      quickchartButtonEl.classList.remove('colab-df-spinner');\n",
              "      quickchartButtonEl.classList.add('colab-df-quickchart-complete');\n",
              "    }\n",
              "    (() => {\n",
              "      let quickchartButtonEl =\n",
              "        document.querySelector('#df-cf63741b-b6c3-4f50-9a40-7b867806b76b button');\n",
              "      quickchartButtonEl.style.display =\n",
              "        google.colab.kernel.accessAllowed ? 'block' : 'none';\n",
              "    })();\n",
              "  </script>\n",
              "</div>\n",
              "\n",
              "    </div>\n",
              "  </div>\n"
            ],
            "application/vnd.google.colaboratory.intrinsic+json": {
              "type": "dataframe",
              "variable_name": "df",
              "summary": "{\n  \"name\": \"df\",\n  \"rows\": 891,\n  \"fields\": [\n    {\n      \"column\": \"PassengerId\",\n      \"properties\": {\n        \"dtype\": \"number\",\n        \"std\": 257,\n        \"min\": 1,\n        \"max\": 891,\n        \"num_unique_values\": 891,\n        \"samples\": [\n          710,\n          440,\n          841\n        ],\n        \"semantic_type\": \"\",\n        \"description\": \"\"\n      }\n    },\n    {\n      \"column\": \"Survived\",\n      \"properties\": {\n        \"dtype\": \"number\",\n        \"std\": 0,\n        \"min\": 0,\n        \"max\": 1,\n        \"num_unique_values\": 2,\n        \"samples\": [\n          1,\n          0\n        ],\n        \"semantic_type\": \"\",\n        \"description\": \"\"\n      }\n    },\n    {\n      \"column\": \"Pclass\",\n      \"properties\": {\n        \"dtype\": \"number\",\n        \"std\": 0,\n        \"min\": 1,\n        \"max\": 3,\n        \"num_unique_values\": 3,\n        \"samples\": [\n          3,\n          1\n        ],\n        \"semantic_type\": \"\",\n        \"description\": \"\"\n      }\n    },\n    {\n      \"column\": \"Name\",\n      \"properties\": {\n        \"dtype\": \"string\",\n        \"num_unique_values\": 891,\n        \"samples\": [\n          \"Moubarek, Master. Halim Gonios (\\\"William George\\\")\",\n          \"Kvillner, Mr. Johan Henrik Johannesson\"\n        ],\n        \"semantic_type\": \"\",\n        \"description\": \"\"\n      }\n    },\n    {\n      \"column\": \"Sex\",\n      \"properties\": {\n        \"dtype\": \"category\",\n        \"num_unique_values\": 2,\n        \"samples\": [\n          \"female\",\n          \"male\"\n        ],\n        \"semantic_type\": \"\",\n        \"description\": \"\"\n      }\n    },\n    {\n      \"column\": \"Age\",\n      \"properties\": {\n        \"dtype\": \"number\",\n        \"std\": 14.526497332334042,\n        \"min\": 0.42,\n        \"max\": 80.0,\n        \"num_unique_values\": 88,\n        \"samples\": [\n          0.75,\n          22.0\n        ],\n        \"semantic_type\": \"\",\n        \"description\": \"\"\n      }\n    },\n    {\n      \"column\": \"SibSp\",\n      \"properties\": {\n        \"dtype\": \"number\",\n        \"std\": 1,\n        \"min\": 0,\n        \"max\": 8,\n        \"num_unique_values\": 7,\n        \"samples\": [\n          1,\n          0\n        ],\n        \"semantic_type\": \"\",\n        \"description\": \"\"\n      }\n    },\n    {\n      \"column\": \"Parch\",\n      \"properties\": {\n        \"dtype\": \"number\",\n        \"std\": 0,\n        \"min\": 0,\n        \"max\": 6,\n        \"num_unique_values\": 7,\n        \"samples\": [\n          0,\n          1\n        ],\n        \"semantic_type\": \"\",\n        \"description\": \"\"\n      }\n    },\n    {\n      \"column\": \"Ticket\",\n      \"properties\": {\n        \"dtype\": \"string\",\n        \"num_unique_values\": 681,\n        \"samples\": [\n          \"11774\",\n          \"248740\"\n        ],\n        \"semantic_type\": \"\",\n        \"description\": \"\"\n      }\n    },\n    {\n      \"column\": \"Fare\",\n      \"properties\": {\n        \"dtype\": \"number\",\n        \"std\": 49.6934285971809,\n        \"min\": 0.0,\n        \"max\": 512.3292,\n        \"num_unique_values\": 248,\n        \"samples\": [\n          11.2417,\n          51.8625\n        ],\n        \"semantic_type\": \"\",\n        \"description\": \"\"\n      }\n    },\n    {\n      \"column\": \"Cabin\",\n      \"properties\": {\n        \"dtype\": \"category\",\n        \"num_unique_values\": 147,\n        \"samples\": [\n          \"D45\",\n          \"B49\"\n        ],\n        \"semantic_type\": \"\",\n        \"description\": \"\"\n      }\n    },\n    {\n      \"column\": \"Embarked\",\n      \"properties\": {\n        \"dtype\": \"category\",\n        \"num_unique_values\": 3,\n        \"samples\": [\n          \"S\",\n          \"C\"\n        ],\n        \"semantic_type\": \"\",\n        \"description\": \"\"\n      }\n    }\n  ]\n}"
            }
          },
          "metadata": {},
          "execution_count": 5
        }
      ]
    },
    {
      "cell_type": "code",
      "source": [
        "df[\"Survived\"].value_counts()"
      ],
      "metadata": {
        "colab": {
          "base_uri": "https://localhost:8080/"
        },
        "id": "KKZdlPRfZ_0X",
        "outputId": "4326906b-ba2e-427b-f6b5-f1fcdbac1d7d"
      },
      "execution_count": 6,
      "outputs": [
        {
          "output_type": "execute_result",
          "data": {
            "text/plain": [
              "Survived\n",
              "0    549\n",
              "1    342\n",
              "Name: count, dtype: int64"
            ]
          },
          "metadata": {},
          "execution_count": 6
        }
      ]
    },
    {
      "cell_type": "code",
      "source": [
        "df.info()"
      ],
      "metadata": {
        "colab": {
          "base_uri": "https://localhost:8080/"
        },
        "id": "nInKhNUZaQ5n",
        "outputId": "559ce4a3-52a4-4eb3-9d8b-65ca84aab7ef"
      },
      "execution_count": 7,
      "outputs": [
        {
          "output_type": "stream",
          "name": "stdout",
          "text": [
            "<class 'pandas.core.frame.DataFrame'>\n",
            "RangeIndex: 891 entries, 0 to 890\n",
            "Data columns (total 12 columns):\n",
            " #   Column       Non-Null Count  Dtype  \n",
            "---  ------       --------------  -----  \n",
            " 0   PassengerId  891 non-null    int64  \n",
            " 1   Survived     891 non-null    int64  \n",
            " 2   Pclass       891 non-null    int64  \n",
            " 3   Name         891 non-null    object \n",
            " 4   Sex          891 non-null    object \n",
            " 5   Age          714 non-null    float64\n",
            " 6   SibSp        891 non-null    int64  \n",
            " 7   Parch        891 non-null    int64  \n",
            " 8   Ticket       891 non-null    object \n",
            " 9   Fare         891 non-null    float64\n",
            " 10  Cabin        204 non-null    object \n",
            " 11  Embarked     889 non-null    object \n",
            "dtypes: float64(2), int64(5), object(5)\n",
            "memory usage: 83.7+ KB\n"
          ]
        }
      ]
    },
    {
      "cell_type": "code",
      "source": [
        "df.isnull().sum()"
      ],
      "metadata": {
        "colab": {
          "base_uri": "https://localhost:8080/"
        },
        "id": "j4v3maq58qJu",
        "outputId": "c05f053d-1eec-460a-caa4-68f20a091e07"
      },
      "execution_count": 8,
      "outputs": [
        {
          "output_type": "execute_result",
          "data": {
            "text/plain": [
              "PassengerId      0\n",
              "Survived         0\n",
              "Pclass           0\n",
              "Name             0\n",
              "Sex              0\n",
              "Age            177\n",
              "SibSp            0\n",
              "Parch            0\n",
              "Ticket           0\n",
              "Fare             0\n",
              "Cabin          687\n",
              "Embarked         2\n",
              "dtype: int64"
            ]
          },
          "metadata": {},
          "execution_count": 8
        }
      ]
    },
    {
      "cell_type": "code",
      "source": [
        "duplicated_rows = df.duplicated()"
      ],
      "metadata": {
        "id": "dB0hYJjh9Sye"
      },
      "execution_count": 9,
      "outputs": []
    },
    {
      "cell_type": "markdown",
      "source": [
        "Se encontro un porcentaje alto de datos nulos,se procede a eliminarlos"
      ],
      "metadata": {
        "id": "n5cKaB2G90dv"
      }
    },
    {
      "cell_type": "code",
      "source": [
        "pip install pandas"
      ],
      "metadata": {
        "colab": {
          "base_uri": "https://localhost:8080/"
        },
        "id": "XsicoX659VO1",
        "outputId": "cde5e836-d4d3-43fd-d928-c4f2e74cdd84"
      },
      "execution_count": 11,
      "outputs": [
        {
          "output_type": "stream",
          "name": "stdout",
          "text": [
            "Requirement already satisfied: pandas in /usr/local/lib/python3.10/dist-packages (2.0.3)\n",
            "Requirement already satisfied: python-dateutil>=2.8.2 in /usr/local/lib/python3.10/dist-packages (from pandas) (2.8.2)\n",
            "Requirement already satisfied: pytz>=2020.1 in /usr/local/lib/python3.10/dist-packages (from pandas) (2023.4)\n",
            "Requirement already satisfied: tzdata>=2022.1 in /usr/local/lib/python3.10/dist-packages (from pandas) (2024.1)\n",
            "Requirement already satisfied: numpy>=1.21.0 in /usr/local/lib/python3.10/dist-packages (from pandas) (1.25.2)\n",
            "Requirement already satisfied: six>=1.5 in /usr/local/lib/python3.10/dist-packages (from python-dateutil>=2.8.2->pandas) (1.16.0)\n"
          ]
        }
      ]
    },
    {
      "cell_type": "code",
      "source": [
        "# Eliminar filas con cualquier valor nulo\n",
        "df_sin_nulos_filas = df.dropna()\n",
        "\n",
        "print(\"\\nDataFrame sin filas con valores nulos:\")\n",
        "print(df_sin_nulos_filas)"
      ],
      "metadata": {
        "colab": {
          "base_uri": "https://localhost:8080/"
        },
        "id": "-KGorlFH-udu",
        "outputId": "4643208c-ddce-44db-afc5-4ab33c0b9efb"
      },
      "execution_count": 12,
      "outputs": [
        {
          "output_type": "stream",
          "name": "stdout",
          "text": [
            "\n",
            "DataFrame sin filas con valores nulos:\n",
            "     PassengerId  Survived  Pclass  \\\n",
            "1              2         1       1   \n",
            "3              4         1       1   \n",
            "6              7         0       1   \n",
            "10            11         1       3   \n",
            "11            12         1       1   \n",
            "..           ...       ...     ...   \n",
            "871          872         1       1   \n",
            "872          873         0       1   \n",
            "879          880         1       1   \n",
            "887          888         1       1   \n",
            "889          890         1       1   \n",
            "\n",
            "                                                  Name     Sex   Age  SibSp  \\\n",
            "1    Cumings, Mrs. John Bradley (Florence Briggs Th...  female  38.0      1   \n",
            "3         Futrelle, Mrs. Jacques Heath (Lily May Peel)  female  35.0      1   \n",
            "6                              McCarthy, Mr. Timothy J    male  54.0      0   \n",
            "10                     Sandstrom, Miss. Marguerite Rut  female   4.0      1   \n",
            "11                            Bonnell, Miss. Elizabeth  female  58.0      0   \n",
            "..                                                 ...     ...   ...    ...   \n",
            "871   Beckwith, Mrs. Richard Leonard (Sallie Monypeny)  female  47.0      1   \n",
            "872                           Carlsson, Mr. Frans Olof    male  33.0      0   \n",
            "879      Potter, Mrs. Thomas Jr (Lily Alexenia Wilson)  female  56.0      0   \n",
            "887                       Graham, Miss. Margaret Edith  female  19.0      0   \n",
            "889                              Behr, Mr. Karl Howell    male  26.0      0   \n",
            "\n",
            "     Parch    Ticket     Fare        Cabin Embarked  \n",
            "1        0  PC 17599  71.2833          C85        C  \n",
            "3        0    113803  53.1000         C123        S  \n",
            "6        0     17463  51.8625          E46        S  \n",
            "10       1   PP 9549  16.7000           G6        S  \n",
            "11       0    113783  26.5500         C103        S  \n",
            "..     ...       ...      ...          ...      ...  \n",
            "871      1     11751  52.5542          D35        S  \n",
            "872      0       695   5.0000  B51 B53 B55        S  \n",
            "879      1     11767  83.1583          C50        C  \n",
            "887      0    112053  30.0000          B42        S  \n",
            "889      0    111369  30.0000         C148        C  \n",
            "\n",
            "[183 rows x 12 columns]\n"
          ]
        }
      ]
    },
    {
      "cell_type": "code",
      "source": [
        "# Especificar las columnas a eliminar\n",
        "columnas_a_eliminar = [\"Age\",\"Cabin\",\"Embarked\",\"Name\",\"Sex\",\"Ticket\"]"
      ],
      "metadata": {
        "id": "m1gnsCiTAYbw"
      },
      "execution_count": 42,
      "outputs": []
    },
    {
      "cell_type": "code",
      "source": [
        "# Crear un nuevo DataFrame eliminando las columnas especificadas\n",
        "df_nuevo = df.drop(columns=columnas_a_eliminar)\n",
        "\n",
        "print(\"\\nNuevo DataFrame sin las columnas \"   \":\")\n",
        "print(df_nuevo)"
      ],
      "metadata": {
        "colab": {
          "base_uri": "https://localhost:8080/"
        },
        "id": "kOVfgAEgA1j-",
        "outputId": "252e2d59-5ed0-473e-e2ef-def6b2487ada"
      },
      "execution_count": 44,
      "outputs": [
        {
          "output_type": "stream",
          "name": "stdout",
          "text": [
            "\n",
            "Nuevo DataFrame sin las columnas :\n",
            "     PassengerId  Survived  Pclass  SibSp  Parch     Fare\n",
            "0              1         0       3      1      0   7.2500\n",
            "1              2         1       1      1      0  71.2833\n",
            "2              3         1       3      0      0   7.9250\n",
            "3              4         1       1      1      0  53.1000\n",
            "4              5         0       3      0      0   8.0500\n",
            "..           ...       ...     ...    ...    ...      ...\n",
            "886          887         0       2      0      0  13.0000\n",
            "887          888         1       1      0      0  30.0000\n",
            "888          889         0       3      1      2  23.4500\n",
            "889          890         1       1      0      0  30.0000\n",
            "890          891         0       3      0      0   7.7500\n",
            "\n",
            "[891 rows x 6 columns]\n"
          ]
        }
      ]
    },
    {
      "cell_type": "code",
      "source": [
        "df_nuevo.info()"
      ],
      "metadata": {
        "colab": {
          "base_uri": "https://localhost:8080/"
        },
        "id": "Jc103yCYA8Pc",
        "outputId": "d79b4204-935d-470d-8c50-5669afb95bfb"
      },
      "execution_count": 45,
      "outputs": [
        {
          "output_type": "stream",
          "name": "stdout",
          "text": [
            "<class 'pandas.core.frame.DataFrame'>\n",
            "RangeIndex: 891 entries, 0 to 890\n",
            "Data columns (total 6 columns):\n",
            " #   Column       Non-Null Count  Dtype  \n",
            "---  ------       --------------  -----  \n",
            " 0   PassengerId  891 non-null    int64  \n",
            " 1   Survived     891 non-null    int64  \n",
            " 2   Pclass       891 non-null    int64  \n",
            " 3   SibSp        891 non-null    int64  \n",
            " 4   Parch        891 non-null    int64  \n",
            " 5   Fare         891 non-null    float64\n",
            "dtypes: float64(1), int64(5)\n",
            "memory usage: 41.9 KB\n"
          ]
        }
      ]
    },
    {
      "cell_type": "code",
      "source": [
        "df_nuevo.dropna(inplace = True)\n",
        "X = df_nuevo.drop(columns = ['Survived','Pclass'])\n",
        "y = df_nuevo['Survived']"
      ],
      "metadata": {
        "id": "bV-1vHsLaZKd"
      },
      "execution_count": 46,
      "outputs": []
    },
    {
      "cell_type": "code",
      "source": [
        "X_train, X_test, y_train, y_test = train_test_split(X, y, random_state=3)"
      ],
      "metadata": {
        "id": "1k_Xe4Ztax8I"
      },
      "execution_count": 47,
      "outputs": []
    },
    {
      "cell_type": "code",
      "source": [
        "X_train.shape"
      ],
      "metadata": {
        "colab": {
          "base_uri": "https://localhost:8080/"
        },
        "id": "yjy8mA55bA7t",
        "outputId": "ad7fe963-82fe-43d7-e74f-d29bc3bee3a7"
      },
      "execution_count": 48,
      "outputs": [
        {
          "output_type": "execute_result",
          "data": {
            "text/plain": [
              "(668, 4)"
            ]
          },
          "metadata": {},
          "execution_count": 48
        }
      ]
    },
    {
      "cell_type": "code",
      "source": [
        "scaler = StandardScaler()\n",
        "X_train = scaler.fit_transform(X_train)\n",
        "X_test = scaler.transform(X_test)"
      ],
      "metadata": {
        "id": "mKA-QbsjDtVz"
      },
      "execution_count": 49,
      "outputs": []
    },
    {
      "cell_type": "markdown",
      "source": [
        "Paso 1: Definir la estructura de nuestra red"
      ],
      "metadata": {
        "id": "gGE_sArHCMmV"
      }
    },
    {
      "cell_type": "code",
      "source": [
        "# Paso 1: Definir nuestra estructura de red\n",
        "# Guardar la cantidad de características que tenemos como nuestra forma de entrada\n",
        "input_shape = X_train.shape[1]\n",
        "input_shape"
      ],
      "metadata": {
        "colab": {
          "base_uri": "https://localhost:8080/"
        },
        "id": "BH1qCXn_CMEs",
        "outputId": "0e7a64a6-1e37-49dd-c930-741b288f820b"
      },
      "execution_count": 50,
      "outputs": [
        {
          "output_type": "execute_result",
          "data": {
            "text/plain": [
              "4"
            ]
          },
          "metadata": {},
          "execution_count": 50
        }
      ]
    },
    {
      "cell_type": "code",
      "source": [
        "model = Sequential()"
      ],
      "metadata": {
        "id": "TpBbUyYmCVBF"
      },
      "execution_count": 51,
      "outputs": []
    },
    {
      "cell_type": "code",
      "source": [
        "# Primera capa oculta\n",
        "model.add(Dense(19, # Cuántas neuronas tienes en tu primera capa oculta\n",
        "                input_dim = input_shape, # ¿Cuál es la forma de las características de entrada (número de columnas)?\n",
        "                activation = 'relu')) # ¿Qué función de activación estás usando?\n",
        "# Segunda capa oculta\n",
        "model.add(Dense(10, # Cuántas neuronas tienes en tu segunda capa oculta\n",
        "                activation = 'relu')) # ¿Qué función de activación estás usando?\n",
        "# Ultima capa:\n",
        "#Para problemas de regresión, queremos usar la función de activación linear.\n",
        "#Para problemas de clasificación, queremos usar la función de activación de Sigmoid.\n",
        "# Capa de salida\n",
        "model.add(Dense(1, activation = 'sigmoid'))"
      ],
      "metadata": {
        "id": "sdWgTjrhCZMM"
      },
      "execution_count": 52,
      "outputs": []
    },
    {
      "cell_type": "markdown",
      "source": [
        "Paso 2: Compilar el modelo"
      ],
      "metadata": {
        "id": "Yr6QHr61Ck7C"
      }
    },
    {
      "cell_type": "code",
      "source": [
        "# Paso 2: compilar\n",
        "model.compile(loss = 'bce', optimizer = 'adam')"
      ],
      "metadata": {
        "id": "CL9GxOaHCh7R"
      },
      "execution_count": 53,
      "outputs": []
    },
    {
      "cell_type": "markdown",
      "source": [
        "Paso 3: Ajustar el modelo"
      ],
      "metadata": {
        "id": "oc64LrrwCukd"
      }
    },
    {
      "cell_type": "code",
      "source": [
        "# Paso 3: ajusta nuestro modelo\n",
        "history = model.fit(X_train, y_train,\n",
        "                    validation_data = (X_test, y_test),\n",
        "                    epochs=10)"
      ],
      "metadata": {
        "colab": {
          "base_uri": "https://localhost:8080/"
        },
        "id": "KIQDPwMbCryr",
        "outputId": "5f4ccfa0-e663-43fd-bc0a-04792b58ada0"
      },
      "execution_count": 54,
      "outputs": [
        {
          "output_type": "stream",
          "name": "stdout",
          "text": [
            "Epoch 1/10\n",
            "21/21 [==============================] - 1s 13ms/step - loss: 0.6947 - val_loss: 0.6882\n",
            "Epoch 2/10\n",
            "21/21 [==============================] - 0s 3ms/step - loss: 0.6795 - val_loss: 0.6793\n",
            "Epoch 3/10\n",
            "21/21 [==============================] - 0s 4ms/step - loss: 0.6669 - val_loss: 0.6724\n",
            "Epoch 4/10\n",
            "21/21 [==============================] - 0s 4ms/step - loss: 0.6564 - val_loss: 0.6667\n",
            "Epoch 5/10\n",
            "21/21 [==============================] - 0s 4ms/step - loss: 0.6465 - val_loss: 0.6614\n",
            "Epoch 6/10\n",
            "21/21 [==============================] - 0s 3ms/step - loss: 0.6364 - val_loss: 0.6569\n",
            "Epoch 7/10\n",
            "21/21 [==============================] - 0s 4ms/step - loss: 0.6253 - val_loss: 0.6537\n",
            "Epoch 8/10\n",
            "21/21 [==============================] - 0s 4ms/step - loss: 0.6157 - val_loss: 0.6510\n",
            "Epoch 9/10\n",
            "21/21 [==============================] - 0s 4ms/step - loss: 0.6075 - val_loss: 0.6502\n",
            "Epoch 10/10\n",
            "21/21 [==============================] - 0s 5ms/step - loss: 0.6013 - val_loss: 0.6492\n"
          ]
        }
      ]
    },
    {
      "cell_type": "code",
      "source": [
        "print(f\"Type of X_train: {type(X_train)}\")\n",
        "print(f\"Type of y_train: {type(y_train)}\")"
      ],
      "metadata": {
        "colab": {
          "base_uri": "https://localhost:8080/"
        },
        "id": "7SdPcvaaDGPD",
        "outputId": "c108564f-d0d8-469d-b84e-646e45bfed88"
      },
      "execution_count": 55,
      "outputs": [
        {
          "output_type": "stream",
          "name": "stdout",
          "text": [
            "Type of X_train: <class 'numpy.ndarray'>\n",
            "Type of y_train: <class 'pandas.core.series.Series'>\n"
          ]
        }
      ]
    },
    {
      "cell_type": "code",
      "source": [
        "if type(X_train) == int:\n",
        "    X_train = X_train.astype(float)\n",
        "elif type(y_train) == int:\n",
        "    y_train = y_train.astype(float)"
      ],
      "metadata": {
        "id": "j3VNTK3WDH0D"
      },
      "execution_count": 56,
      "outputs": []
    },
    {
      "cell_type": "code",
      "source": [
        "model.compile(loss='mse', optimizer='adam')"
      ],
      "metadata": {
        "id": "QGEHmnHcDM1S"
      },
      "execution_count": 57,
      "outputs": []
    },
    {
      "cell_type": "code",
      "source": [
        "# Visualizar la perdida\n",
        "plt.plot(history.history['loss'], label='Train loss')\n",
        "plt.plot(history.history['val_loss'], label='Test Loss')\n",
        "plt.legend();"
      ],
      "metadata": {
        "colab": {
          "base_uri": "https://localhost:8080/",
          "height": 430
        },
        "id": "pLTEJFjwEczE",
        "outputId": "64a99049-111a-42d6-88b3-8d1ec81710e6"
      },
      "execution_count": 59,
      "outputs": [
        {
          "output_type": "display_data",
          "data": {
            "text/plain": [
              "<Figure size 640x480 with 1 Axes>"
            ],
            "image/png": "[encoded data removed]"
          },
          "metadata": {}
        }
      ]
    },
    {
      "cell_type": "markdown",
      "source": [
        "Regularizacion"
      ],
      "metadata": {
        "id": "B2Fn4o89EmGY"
      }
    },
    {
      "cell_type": "markdown",
      "source": [
        "Dilucion"
      ],
      "metadata": {
        "id": "9NUF0YiWEqcl"
      }
    },
    {
      "cell_type": "code",
      "source": [
        "# Sin dilución\n",
        "# Modelo secuencial\n",
        "model = Sequential()\n",
        "# Primera capa oculta\n",
        "model.add(Dense(19, # Cuántas neuronas tienes en tu primera capa oculta\n",
        "                input_dim = input_shape, # ¿Cuál es la forma de tus características de entrada (número de columnas)?\n",
        "                activation = 'relu')) # ¿Qué función de activación estás usando?\n",
        "model.add(Dense(10,\n",
        "                activation = 'relu'))\n",
        "model.add(Dense(1, activation = 'sigmoid'))\n",
        "model.compile(loss = 'bce', optimizer = 'adam')\n",
        "history = model.fit(X_train, y_train,\n",
        "                    validation_data = (X_test, y_test),\n",
        "                    epochs=50)"
      ],
      "metadata": {
        "colab": {
          "base_uri": "https://localhost:8080/"
        },
        "id": "UbtlkgT9EqNr",
        "outputId": "f358500c-c24b-4cd3-e448-25ff5d0cd22e"
      },
      "execution_count": 60,
      "outputs": [
        {
          "output_type": "stream",
          "name": "stdout",
          "text": [
            "Epoch 1/50\n",
            "21/21 [==============================] - 1s 10ms/step - loss: 0.7118 - val_loss: 0.6968\n",
            "Epoch 2/50\n",
            "21/21 [==============================] - 0s 4ms/step - loss: 0.6822 - val_loss: 0.6805\n",
            "Epoch 3/50\n",
            "21/21 [==============================] - 0s 4ms/step - loss: 0.6621 - val_loss: 0.6722\n",
            "Epoch 4/50\n",
            "21/21 [==============================] - 0s 4ms/step - loss: 0.6487 - val_loss: 0.6664\n",
            "Epoch 5/50\n",
            "21/21 [==============================] - 0s 4ms/step - loss: 0.6381 - val_loss: 0.6627\n",
            "Epoch 6/50\n",
            "21/21 [==============================] - 0s 4ms/step - loss: 0.6303 - val_loss: 0.6602\n",
            "Epoch 7/50\n",
            "21/21 [==============================] - 0s 4ms/step - loss: 0.6219 - val_loss: 0.6577\n",
            "Epoch 8/50\n",
            "21/21 [==============================] - 0s 4ms/step - loss: 0.6156 - val_loss: 0.6564\n",
            "Epoch 9/50\n",
            "21/21 [==============================] - 0s 4ms/step - loss: 0.6086 - val_loss: 0.6555\n",
            "Epoch 10/50\n",
            "21/21 [==============================] - 0s 4ms/step - loss: 0.6032 - val_loss: 0.6549\n",
            "Epoch 11/50\n",
            "21/21 [==============================] - 0s 3ms/step - loss: 0.5982 - val_loss: 0.6567\n",
            "Epoch 12/50\n",
            "21/21 [==============================] - 0s 4ms/step - loss: 0.5935 - val_loss: 0.6566\n",
            "Epoch 13/50\n",
            "21/21 [==============================] - 0s 4ms/step - loss: 0.5897 - val_loss: 0.6599\n",
            "Epoch 14/50\n",
            "21/21 [==============================] - 0s 3ms/step - loss: 0.5857 - val_loss: 0.6590\n",
            "Epoch 15/50\n",
            "21/21 [==============================] - 0s 4ms/step - loss: 0.5830 - val_loss: 0.6601\n",
            "Epoch 16/50\n",
            "21/21 [==============================] - 0s 6ms/step - loss: 0.5804 - val_loss: 0.6603\n",
            "Epoch 17/50\n",
            "21/21 [==============================] - 0s 5ms/step - loss: 0.5780 - val_loss: 0.6622\n",
            "Epoch 18/50\n",
            "21/21 [==============================] - 0s 4ms/step - loss: 0.5753 - val_loss: 0.6631\n",
            "Epoch 19/50\n",
            "21/21 [==============================] - 0s 4ms/step - loss: 0.5740 - val_loss: 0.6650\n",
            "Epoch 20/50\n",
            "21/21 [==============================] - 0s 4ms/step - loss: 0.5720 - val_loss: 0.6632\n",
            "Epoch 21/50\n",
            "21/21 [==============================] - 0s 4ms/step - loss: 0.5703 - val_loss: 0.6637\n",
            "Epoch 22/50\n",
            "21/21 [==============================] - 0s 3ms/step - loss: 0.5689 - val_loss: 0.6636\n",
            "Epoch 23/50\n",
            "21/21 [==============================] - 0s 3ms/step - loss: 0.5681 - val_loss: 0.6643\n",
            "Epoch 24/50\n",
            "21/21 [==============================] - 0s 4ms/step - loss: 0.5668 - val_loss: 0.6639\n",
            "Epoch 25/50\n",
            "21/21 [==============================] - 0s 4ms/step - loss: 0.5657 - val_loss: 0.6650\n",
            "Epoch 26/50\n",
            "21/21 [==============================] - 0s 4ms/step - loss: 0.5661 - val_loss: 0.6635\n",
            "Epoch 27/50\n",
            "21/21 [==============================] - 0s 5ms/step - loss: 0.5642 - val_loss: 0.6636\n",
            "Epoch 28/50\n",
            "21/21 [==============================] - 0s 4ms/step - loss: 0.5630 - val_loss: 0.6644\n",
            "Epoch 29/50\n",
            "21/21 [==============================] - 0s 4ms/step - loss: 0.5625 - val_loss: 0.6631\n",
            "Epoch 30/50\n",
            "21/21 [==============================] - 0s 4ms/step - loss: 0.5619 - val_loss: 0.6622\n",
            "Epoch 31/50\n",
            "21/21 [==============================] - 0s 4ms/step - loss: 0.5614 - val_loss: 0.6615\n",
            "Epoch 32/50\n",
            "21/21 [==============================] - 0s 4ms/step - loss: 0.5605 - val_loss: 0.6619\n",
            "Epoch 33/50\n",
            "21/21 [==============================] - 0s 4ms/step - loss: 0.5600 - val_loss: 0.6622\n",
            "Epoch 34/50\n",
            "21/21 [==============================] - 0s 4ms/step - loss: 0.5590 - val_loss: 0.6614\n",
            "Epoch 35/50\n",
            "21/21 [==============================] - 0s 4ms/step - loss: 0.5584 - val_loss: 0.6598\n",
            "Epoch 36/50\n",
            "21/21 [==============================] - 0s 3ms/step - loss: 0.5578 - val_loss: 0.6589\n",
            "Epoch 37/50\n",
            "21/21 [==============================] - 0s 4ms/step - loss: 0.5573 - val_loss: 0.6593\n",
            "Epoch 38/50\n",
            "21/21 [==============================] - 0s 4ms/step - loss: 0.5582 - val_loss: 0.6574\n",
            "Epoch 39/50\n",
            "21/21 [==============================] - 0s 5ms/step - loss: 0.5567 - val_loss: 0.6585\n",
            "Epoch 40/50\n",
            "21/21 [==============================] - 0s 3ms/step - loss: 0.5554 - val_loss: 0.6583\n",
            "Epoch 41/50\n",
            "21/21 [==============================] - 0s 4ms/step - loss: 0.5554 - val_loss: 0.6578\n",
            "Epoch 42/50\n",
            "21/21 [==============================] - 0s 3ms/step - loss: 0.5550 - val_loss: 0.6558\n",
            "Epoch 43/50\n",
            "21/21 [==============================] - 0s 4ms/step - loss: 0.5550 - val_loss: 0.6588\n",
            "Epoch 44/50\n",
            "21/21 [==============================] - 0s 4ms/step - loss: 0.5537 - val_loss: 0.6572\n",
            "Epoch 45/50\n",
            "21/21 [==============================] - 0s 4ms/step - loss: 0.5535 - val_loss: 0.6555\n",
            "Epoch 46/50\n",
            "21/21 [==============================] - 0s 3ms/step - loss: 0.5535 - val_loss: 0.6592\n",
            "Epoch 47/50\n",
            "21/21 [==============================] - 0s 4ms/step - loss: 0.5526 - val_loss: 0.6559\n",
            "Epoch 48/50\n",
            "21/21 [==============================] - 0s 4ms/step - loss: 0.5520 - val_loss: 0.6564\n",
            "Epoch 49/50\n",
            "21/21 [==============================] - 0s 4ms/step - loss: 0.5517 - val_loss: 0.6569\n",
            "Epoch 50/50\n",
            "21/21 [==============================] - 0s 4ms/step - loss: 0.5516 - val_loss: 0.6581\n"
          ]
        }
      ]
    },
    {
      "cell_type": "code",
      "source": [
        "# Visualizar la perdida\n",
        "plt.plot(history.history['loss'], label='Train loss')\n",
        "plt.plot(history.history['val_loss'], label='Test Loss')\n",
        "plt.legend()"
      ],
      "metadata": {
        "colab": {
          "base_uri": "https://localhost:8080/",
          "height": 447
        },
        "id": "-jP0CNjPEyty",
        "outputId": "d7a5c574-b77e-4cb9-d64d-91b5a3ab534b"
      },
      "execution_count": 61,
      "outputs": [
        {
          "output_type": "execute_result",
          "data": {
            "text/plain": [
              "<matplotlib.legend.Legend at 0x7b6732df47f0>"
            ]
          },
          "metadata": {},
          "execution_count": 61
        },
        {
          "output_type": "display_data",
          "data": {
            "text/plain": [
              "<Figure size 640x480 with 1 Axes>"
            ],
            "image/png": "[encoded data removed]"
          },
          "metadata": {}
        }
      ]
    },
    {
      "cell_type": "code",
      "source": [
        "# Con dilución\n",
        "from tensorflow.keras.layers import Dropout\n",
        "# Modelo secuencial\n",
        "model = Sequential()\n",
        "# Primera capa oculta\n",
        "model.add(Dense(19, # Cuántas neuronas tienes en tu primera capa oculta\n",
        "                input_dim = input_shape, # ¿Cuál es la forma de tus características de entrada (número de columnas)?\n",
        "                activation = 'relu')) # ¿Qué función de activación estás usando?\n",
        "model.add(Dropout(.2))\n",
        "model.add(Dense(10,\n",
        "                activation = 'relu'))\n",
        "model.add(Dropout(0.2))\n",
        "model.add(Dense(1, activation = 'sigmoid'))\n",
        "model.compile(loss = 'bce', optimizer = 'adam')\n",
        "history = model.fit(X_train, y_train,\n",
        "                    validation_data = (X_test, y_test),\n",
        "                    epochs=50)"
      ],
      "metadata": {
        "colab": {
          "base_uri": "https://localhost:8080/"
        },
        "id": "yL4z5j-5E3fz",
        "outputId": "696dad38-13ef-4d4a-fdf1-ec8ba0189957"
      },
      "execution_count": 62,
      "outputs": [
        {
          "output_type": "stream",
          "name": "stdout",
          "text": [
            "Epoch 1/50\n",
            "21/21 [==============================] - 2s 16ms/step - loss: 0.7052 - val_loss: 0.6801\n",
            "Epoch 2/50\n",
            "21/21 [==============================] - 0s 7ms/step - loss: 0.6795 - val_loss: 0.6627\n",
            "Epoch 3/50\n",
            "21/21 [==============================] - 0s 6ms/step - loss: 0.6665 - val_loss: 0.6486\n",
            "Epoch 4/50\n",
            "21/21 [==============================] - 0s 6ms/step - loss: 0.6509 - val_loss: 0.6389\n",
            "Epoch 5/50\n",
            "21/21 [==============================] - 0s 6ms/step - loss: 0.6503 - val_loss: 0.6330\n",
            "Epoch 6/50\n",
            "21/21 [==============================] - 0s 6ms/step - loss: 0.6300 - val_loss: 0.6279\n",
            "Epoch 7/50\n",
            "21/21 [==============================] - 0s 7ms/step - loss: 0.6221 - val_loss: 0.6263\n",
            "Epoch 8/50\n",
            "21/21 [==============================] - 0s 7ms/step - loss: 0.6167 - val_loss: 0.6249\n",
            "Epoch 9/50\n",
            "21/21 [==============================] - 0s 5ms/step - loss: 0.6048 - val_loss: 0.6265\n",
            "Epoch 10/50\n",
            "21/21 [==============================] - 0s 4ms/step - loss: 0.6050 - val_loss: 0.6287\n",
            "Epoch 11/50\n",
            "21/21 [==============================] - 0s 4ms/step - loss: 0.5911 - val_loss: 0.6317\n",
            "Epoch 12/50\n",
            "21/21 [==============================] - 0s 4ms/step - loss: 0.6003 - val_loss: 0.6338\n",
            "Epoch 13/50\n",
            "21/21 [==============================] - 0s 4ms/step - loss: 0.5957 - val_loss: 0.6345\n",
            "Epoch 14/50\n",
            "21/21 [==============================] - 0s 3ms/step - loss: 0.5965 - val_loss: 0.6363\n",
            "Epoch 15/50\n",
            "21/21 [==============================] - 0s 4ms/step - loss: 0.5965 - val_loss: 0.6371\n",
            "Epoch 16/50\n",
            "21/21 [==============================] - 0s 5ms/step - loss: 0.5844 - val_loss: 0.6387\n",
            "Epoch 17/50\n",
            "21/21 [==============================] - 0s 5ms/step - loss: 0.5909 - val_loss: 0.6409\n",
            "Epoch 18/50\n",
            "21/21 [==============================] - 0s 4ms/step - loss: 0.6018 - val_loss: 0.6420\n",
            "Epoch 19/50\n",
            "21/21 [==============================] - 0s 4ms/step - loss: 0.5826 - val_loss: 0.6427\n",
            "Epoch 20/50\n",
            "21/21 [==============================] - 0s 4ms/step - loss: 0.5955 - val_loss: 0.6430\n",
            "Epoch 21/50\n",
            "21/21 [==============================] - 0s 4ms/step - loss: 0.5813 - val_loss: 0.6434\n",
            "Epoch 22/50\n",
            "21/21 [==============================] - 0s 4ms/step - loss: 0.5960 - val_loss: 0.6457\n",
            "Epoch 23/50\n",
            "21/21 [==============================] - 0s 3ms/step - loss: 0.5909 - val_loss: 0.6456\n",
            "Epoch 24/50\n",
            "21/21 [==============================] - 0s 4ms/step - loss: 0.5832 - val_loss: 0.6415\n",
            "Epoch 25/50\n",
            "21/21 [==============================] - 0s 3ms/step - loss: 0.5839 - val_loss: 0.6413\n",
            "Epoch 26/50\n",
            "21/21 [==============================] - 0s 3ms/step - loss: 0.5832 - val_loss: 0.6434\n",
            "Epoch 27/50\n",
            "21/21 [==============================] - 0s 4ms/step - loss: 0.5793 - val_loss: 0.6437\n",
            "Epoch 28/50\n",
            "21/21 [==============================] - 0s 4ms/step - loss: 0.5668 - val_loss: 0.6461\n",
            "Epoch 29/50\n",
            "21/21 [==============================] - 0s 4ms/step - loss: 0.5896 - val_loss: 0.6479\n",
            "Epoch 30/50\n",
            "21/21 [==============================] - 0s 3ms/step - loss: 0.5781 - val_loss: 0.6462\n",
            "Epoch 31/50\n",
            "21/21 [==============================] - 0s 4ms/step - loss: 0.5823 - val_loss: 0.6475\n",
            "Epoch 32/50\n",
            "21/21 [==============================] - 0s 3ms/step - loss: 0.5850 - val_loss: 0.6469\n",
            "Epoch 33/50\n",
            "21/21 [==============================] - 0s 4ms/step - loss: 0.5894 - val_loss: 0.6467\n",
            "Epoch 34/50\n",
            "21/21 [==============================] - 0s 3ms/step - loss: 0.5771 - val_loss: 0.6466\n",
            "Epoch 35/50\n",
            "21/21 [==============================] - 0s 4ms/step - loss: 0.5766 - val_loss: 0.6482\n",
            "Epoch 36/50\n",
            "21/21 [==============================] - 0s 4ms/step - loss: 0.5841 - val_loss: 0.6462\n",
            "Epoch 37/50\n",
            "21/21 [==============================] - 0s 4ms/step - loss: 0.5810 - val_loss: 0.6455\n",
            "Epoch 38/50\n",
            "21/21 [==============================] - 0s 4ms/step - loss: 0.5779 - val_loss: 0.6469\n",
            "Epoch 39/50\n",
            "21/21 [==============================] - 0s 5ms/step - loss: 0.5823 - val_loss: 0.6476\n",
            "Epoch 40/50\n",
            "21/21 [==============================] - 0s 5ms/step - loss: 0.5747 - val_loss: 0.6480\n",
            "Epoch 41/50\n",
            "21/21 [==============================] - 0s 4ms/step - loss: 0.5794 - val_loss: 0.6488\n",
            "Epoch 42/50\n",
            "21/21 [==============================] - 0s 4ms/step - loss: 0.5716 - val_loss: 0.6495\n",
            "Epoch 43/50\n",
            "21/21 [==============================] - 0s 4ms/step - loss: 0.5863 - val_loss: 0.6501\n",
            "Epoch 44/50\n",
            "21/21 [==============================] - 0s 4ms/step - loss: 0.5805 - val_loss: 0.6505\n",
            "Epoch 45/50\n",
            "21/21 [==============================] - 0s 4ms/step - loss: 0.5694 - val_loss: 0.6512\n",
            "Epoch 46/50\n",
            "21/21 [==============================] - 0s 4ms/step - loss: 0.5779 - val_loss: 0.6519\n",
            "Epoch 47/50\n",
            "21/21 [==============================] - 0s 4ms/step - loss: 0.5706 - val_loss: 0.6512\n",
            "Epoch 48/50\n",
            "21/21 [==============================] - 0s 3ms/step - loss: 0.5629 - val_loss: 0.6508\n",
            "Epoch 49/50\n",
            "21/21 [==============================] - 0s 4ms/step - loss: 0.5744 - val_loss: 0.6509\n",
            "Epoch 50/50\n",
            "21/21 [==============================] - 0s 4ms/step - loss: 0.5736 - val_loss: 0.6515\n"
          ]
        }
      ]
    },
    {
      "cell_type": "code",
      "source": [
        "# Visualizar la perdida\n",
        "plt.plot(history.history['loss'], label='Train loss')\n",
        "plt.plot(history.history['val_loss'], label='Test Loss')\n",
        "plt.legend()"
      ],
      "metadata": {
        "colab": {
          "base_uri": "https://localhost:8080/",
          "height": 447
        },
        "id": "BsOdGiDZEfdj",
        "outputId": "716c67e1-6454-41b4-e6cd-36c7e0158a79"
      },
      "execution_count": 63,
      "outputs": [
        {
          "output_type": "execute_result",
          "data": {
            "text/plain": [
              "<matplotlib.legend.Legend at 0x7b6732a6eb00>"
            ]
          },
          "metadata": {},
          "execution_count": 63
        },
        {
          "output_type": "display_data",
          "data": {
            "text/plain": [
              "<Figure size 640x480 with 1 Axes>"
            ],
            "image/png": "[encoded data removed]"
          },
          "metadata": {}
        }
      ]
    },
    {
      "cell_type": "markdown",
      "source": [
        "Detencion anticipada"
      ],
      "metadata": {
        "id": "5Mz2p-W_FGHi"
      }
    },
    {
      "cell_type": "code",
      "source": [
        "from tensorflow.keras.callbacks import EarlyStopping\n",
        "# Con detención anticipada\n",
        "# Modelo secuencial\n",
        "model = Sequential()\n",
        "# Primera capa oculta\n",
        "model.add(Dense(19, # Cuántas neuronas tienes en tu primera capa oculta\n",
        "                input_dim = input_shape, # ¿Cuál es la forma de tus características de entrada (número de columnas)?\n",
        "                activation = 'relu')) # ¿Qué función de activación estás usando?\n",
        "model.add(Dense(10,\n",
        "                activation = 'relu'))\n",
        "model.add(Dense(1, activation = 'sigmoid'))\n",
        "model.compile(loss = 'bce', optimizer = 'adam')\n",
        "early_stopping = EarlyStopping(patience = 5)\n",
        "history = model.fit(X_train, y_train,\n",
        "                    validation_data = (X_test, y_test),\n",
        "                    epochs=50,\n",
        "                    callbacks = [early_stopping])"
      ],
      "metadata": {
        "colab": {
          "base_uri": "https://localhost:8080/"
        },
        "id": "GakJYsMxFDeb",
        "outputId": "6097ed21-b8e5-481b-cba7-53bd130f4ab5"
      },
      "execution_count": 64,
      "outputs": [
        {
          "output_type": "stream",
          "name": "stdout",
          "text": [
            "Epoch 1/50\n",
            "21/21 [==============================] - 1s 11ms/step - loss: 0.6849 - val_loss: 0.6635\n",
            "Epoch 2/50\n",
            "21/21 [==============================] - 0s 4ms/step - loss: 0.6647 - val_loss: 0.6506\n",
            "Epoch 3/50\n",
            "21/21 [==============================] - 0s 4ms/step - loss: 0.6487 - val_loss: 0.6417\n",
            "Epoch 4/50\n",
            "21/21 [==============================] - 0s 4ms/step - loss: 0.6376 - val_loss: 0.6359\n",
            "Epoch 5/50\n",
            "21/21 [==============================] - 0s 5ms/step - loss: 0.6296 - val_loss: 0.6308\n",
            "Epoch 6/50\n",
            "21/21 [==============================] - 0s 6ms/step - loss: 0.6225 - val_loss: 0.6276\n",
            "Epoch 7/50\n",
            "21/21 [==============================] - 0s 5ms/step - loss: 0.6177 - val_loss: 0.6252\n",
            "Epoch 8/50\n",
            "21/21 [==============================] - 0s 4ms/step - loss: 0.6120 - val_loss: 0.6228\n",
            "Epoch 9/50\n",
            "21/21 [==============================] - 0s 4ms/step - loss: 0.6071 - val_loss: 0.6199\n",
            "Epoch 10/50\n",
            "21/21 [==============================] - 0s 4ms/step - loss: 0.6030 - val_loss: 0.6184\n",
            "Epoch 11/50\n",
            "21/21 [==============================] - 0s 4ms/step - loss: 0.5988 - val_loss: 0.6175\n",
            "Epoch 12/50\n",
            "21/21 [==============================] - 0s 4ms/step - loss: 0.5958 - val_loss: 0.6180\n",
            "Epoch 13/50\n",
            "21/21 [==============================] - 0s 4ms/step - loss: 0.5936 - val_loss: 0.6138\n",
            "Epoch 14/50\n",
            "21/21 [==============================] - 0s 3ms/step - loss: 0.5891 - val_loss: 0.6166\n",
            "Epoch 15/50\n",
            "21/21 [==============================] - 0s 3ms/step - loss: 0.5863 - val_loss: 0.6165\n",
            "Epoch 16/50\n",
            "21/21 [==============================] - 0s 5ms/step - loss: 0.5831 - val_loss: 0.6142\n",
            "Epoch 17/50\n",
            "21/21 [==============================] - 0s 5ms/step - loss: 0.5805 - val_loss: 0.6150\n",
            "Epoch 18/50\n",
            "21/21 [==============================] - 0s 6ms/step - loss: 0.5782 - val_loss: 0.6170\n"
          ]
        }
      ]
    },
    {
      "cell_type": "code",
      "source": [
        "# Visualizar la pérdida\n",
        "plt.plot(history.history['loss'], label='Train loss')\n",
        "plt.plot(history.history['val_loss'], label='Test Loss')\n",
        "plt.legend()"
      ],
      "metadata": {
        "colab": {
          "base_uri": "https://localhost:8080/",
          "height": 447
        },
        "id": "ui6gwy7CFLzX",
        "outputId": "ce08dd12-52c3-4ca5-9949-35a06725e3ba"
      },
      "execution_count": 65,
      "outputs": [
        {
          "output_type": "execute_result",
          "data": {
            "text/plain": [
              "<matplotlib.legend.Legend at 0x7b67328860b0>"
            ]
          },
          "metadata": {},
          "execution_count": 65
        },
        {
          "output_type": "display_data",
          "data": {
            "text/plain": [
              "<Figure size 640x480 with 1 Axes>"
            ],
            "image/png": "[encoded data removed]"
          },
          "metadata": {}
        }
      ]
    },
    {
      "cell_type": "code",
      "source": [
        "model = Sequential()\n",
        "model.add(Dense(19,\n",
        "                input_dim = input_shape,\n",
        "                activation = 'relu'))\n",
        "model.add(Dropout(.15))\n",
        "model.add(Dense(14,\n",
        "                activation = 'relu'))\n",
        "model.add(Dropout(.15))\n",
        "model.add(Dense(8,\n",
        "                activation = 'relu'))\n",
        "model.add(Dropout(.15))\n",
        "model.add(Dense(4,\n",
        "                activation = 'relu'))\n",
        "model.add(Dense(1, activation = 'sigmoid'))\n",
        "model.compile(loss = 'bce', optimizer = 'adam', metrics = \"accuracy\")\n",
        "early_stopping = EarlyStopping(patience = 5)\n",
        "history = model.fit(X_train, y_train,\n",
        "                    validation_data = (X_test, y_test),\n",
        "                    epochs=100,\n",
        "                    callbacks = [early_stopping])"
      ],
      "metadata": {
        "colab": {
          "base_uri": "https://localhost:8080/"
        },
        "id": "UqwxBBnrFQfh",
        "outputId": "41d3a65c-1cd9-4fa6-b769-7ca1335c11ab"
      },
      "execution_count": 66,
      "outputs": [
        {
          "output_type": "stream",
          "name": "stdout",
          "text": [
            "Epoch 1/100\n",
            "21/21 [==============================] - 3s 32ms/step - loss: 0.7098 - accuracy: 0.4446 - val_loss: 0.6910 - val_accuracy: 0.5247\n",
            "Epoch 2/100\n",
            "21/21 [==============================] - 0s 6ms/step - loss: 0.6860 - accuracy: 0.5614 - val_loss: 0.6750 - val_accuracy: 0.6278\n",
            "Epoch 3/100\n",
            "21/21 [==============================] - 0s 5ms/step - loss: 0.6653 - accuracy: 0.6362 - val_loss: 0.6628 - val_accuracy: 0.6278\n",
            "Epoch 4/100\n",
            "21/21 [==============================] - 0s 4ms/step - loss: 0.6582 - accuracy: 0.6407 - val_loss: 0.6551 - val_accuracy: 0.6278\n",
            "Epoch 5/100\n",
            "21/21 [==============================] - 0s 4ms/step - loss: 0.6490 - accuracy: 0.6497 - val_loss: 0.6501 - val_accuracy: 0.6368\n",
            "Epoch 6/100\n",
            "21/21 [==============================] - 0s 4ms/step - loss: 0.6366 - accuracy: 0.6512 - val_loss: 0.6458 - val_accuracy: 0.6413\n",
            "Epoch 7/100\n",
            "21/21 [==============================] - 0s 4ms/step - loss: 0.6357 - accuracy: 0.6527 - val_loss: 0.6440 - val_accuracy: 0.6457\n",
            "Epoch 8/100\n",
            "21/21 [==============================] - 0s 4ms/step - loss: 0.6273 - accuracy: 0.6692 - val_loss: 0.6411 - val_accuracy: 0.6502\n",
            "Epoch 9/100\n",
            "21/21 [==============================] - 0s 4ms/step - loss: 0.6281 - accuracy: 0.6662 - val_loss: 0.6379 - val_accuracy: 0.6457\n",
            "Epoch 10/100\n",
            "21/21 [==============================] - 0s 4ms/step - loss: 0.6212 - accuracy: 0.6871 - val_loss: 0.6370 - val_accuracy: 0.6368\n",
            "Epoch 11/100\n",
            "21/21 [==============================] - 0s 4ms/step - loss: 0.6141 - accuracy: 0.6722 - val_loss: 0.6368 - val_accuracy: 0.6547\n",
            "Epoch 12/100\n",
            "21/21 [==============================] - 0s 4ms/step - loss: 0.6000 - accuracy: 0.6946 - val_loss: 0.6389 - val_accuracy: 0.6547\n",
            "Epoch 13/100\n",
            "21/21 [==============================] - 0s 5ms/step - loss: 0.6216 - accuracy: 0.6916 - val_loss: 0.6397 - val_accuracy: 0.6592\n",
            "Epoch 14/100\n",
            "21/21 [==============================] - 0s 5ms/step - loss: 0.6028 - accuracy: 0.6991 - val_loss: 0.6397 - val_accuracy: 0.6592\n",
            "Epoch 15/100\n",
            "21/21 [==============================] - 0s 5ms/step - loss: 0.6152 - accuracy: 0.6916 - val_loss: 0.6406 - val_accuracy: 0.6547\n",
            "Epoch 16/100\n",
            "21/21 [==============================] - 0s 4ms/step - loss: 0.6061 - accuracy: 0.6901 - val_loss: 0.6395 - val_accuracy: 0.6592\n"
          ]
        }
      ]
    },
    {
      "cell_type": "code",
      "source": [
        "# Visualizar la pérdida\n",
        "plt.plot(history.history['loss'], label='Train loss')\n",
        "plt.plot(history.history['val_loss'], label='Test loss')\n",
        "plt.plot(history.history['accuracy'], label='Train accuracy')\n",
        "plt.plot(history.history['val_accuracy'], label='Test accuracy')\n",
        "plt.legend()"
      ],
      "metadata": {
        "colab": {
          "base_uri": "https://localhost:8080/",
          "height": 447
        },
        "id": "apjkIFvkFaN3",
        "outputId": "eac6b037-f055-40b5-d2b9-cf5fa07b4b80"
      },
      "execution_count": 67,
      "outputs": [
        {
          "output_type": "execute_result",
          "data": {
            "text/plain": [
              "<matplotlib.legend.Legend at 0x7b672f0e2500>"
            ]
          },
          "metadata": {},
          "execution_count": 67
        },
        {
          "output_type": "display_data",
          "data": {
            "text/plain": [
              "<Figure size 640x480 with 1 Axes>"
            ],
            "image/png": "[encoded data removed]"
          },
          "metadata": {}
        }
      ]
    },
    {
      "cell_type": "code",
      "source": [],
      "metadata": {
        "id": "IGSgHpRAFf_P"
      },
      "execution_count": null,
      "outputs": []
    }
  ]
}